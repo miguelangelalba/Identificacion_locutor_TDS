{
 "cells": [
  {
   "cell_type": "code",
   "execution_count": 2,
   "metadata": {},
   "outputs": [
    {
     "name": "stdout",
     "output_type": "stream",
     "text": [
      "44100\n"
     ]
    }
   ],
   "source": [
    "#Importar la señal\n",
    "%matplotlib notebook\n",
    "\n",
    "import matplotlib.pyplot as plt\n",
    "import sys\n",
    "from tds_utils import *\n",
    "import numpy as np\n",
    "from IPython.display import Audio\n",
    "import math\n",
    "\n",
    "import numpy as np\n",
    "import scipy as sc\n",
    "import matplotlib.pyplot as plt\n",
    "\n",
    "import scipy.io.wavfile as wf\n",
    "\n",
    "\n",
    "class clasePalabra:\n",
    "\n",
    "    def __init__(self):\n",
    "\n",
    "        self.fs = 0\n",
    "        self.y = 0\n",
    "        self.NumVentana = 0\n",
    "        self.MuestraVentana = 0\n",
    "        \n",
    "i=1\n",
    "arrayPalabras = []\n",
    "\n",
    "while i < 9:\n",
    "    filename = \"Miguelangel/\"+str(i)+\".wav\"\n",
    "\n",
    "    fs,y = wf.read(filename)\n",
    "    palabra  = clasePalabra()\n",
    "    palabra.fs= fs\n",
    "    palabra.y = y\n",
    "    t = np.arange(0,len(palabra.y)/palabra.fs,1/palabra.fs)\n",
    "    palabra.numVentana =  math.floor(max(t)/0.02)\n",
    "    palabra.muestrasVentana = math.floor(len(palabra.y)/palabra.numVentana)\n",
    "    arrayPalabras.append(palabra)\n",
    "    i=i+1\n",
    "#Play the signal at fs\n",
    "import sounddevice as sd\n",
    "print(fs)\n",
    "sd.play(y,fs)"
   ]
  },
  {
   "cell_type": "code",
   "execution_count": 6,
   "metadata": {},
   "outputs": [
    {
     "name": "stdout",
     "output_type": "stream",
     "text": [
      "[129.19921875, 107.666015625, 107.666015625, 86.1328125, 86.1328125, 86.1328125, 107.666015625, 86.1328125, 107.666015625, 107.666015625, 107.666015625, 107.666015625, 107.666015625, 107.666015625, 86.1328125, 86.1328125, 86.1328125, 86.1328125, 86.1328125, 64.599609375, 64.599609375]\n",
      "[3, 4, 5, 6, 7, 8, 9, 10, 11, 12, 13, 14, 15, 16, 17, 18, 19, 20, 21, 22, 23]\n",
      "95.361328125\n"
     ]
    }
   ],
   "source": [
    "\n",
    "\n",
    "\n",
    "#----------------------------------------------------------------------\n",
    "\n",
    "#print(Canal_1)\n",
    "i = 0\n",
    "pitch = []\n",
    "k = []\n",
    "while i < numVentana:\n",
    "    seg = y[muestrasVentana*(i):muestrasVentana*(i+1)]\n",
    "    Canal_1 = seg[:,0]\n",
    "    psd1,f1 = my_spectra(Canal_1,fs)\n",
    "    length = 0\n",
    "    while f1[length]<0:\n",
    "        length = length + 1\n",
    "    psd=psd1[length:]\n",
    "    f=f1[length:]\n",
    "    umbral = 50\n",
    "    umbralBaja = 0\n",
    "    j=3\n",
    "    l=True\n",
    "    while l==True:\n",
    "        if psd[j+1]<psd[j]:\n",
    "            j=j+1\n",
    "        else:\n",
    "            l=False\n",
    "    while j<23:\n",
    "        if psd[j+2] < psd[j] and psd[j+2] > umbral :\n",
    "            pitch.append(f[j])\n",
    "            k.append(i)\n",
    "            break\n",
    "        j=j+1\n",
    "        #pitch=0.0\n",
    "    i = i+1\n",
    "print(pitch)\n",
    "print(k)\n",
    "media=0\n",
    "media = np.mean(pitch[0:len(pitch)])\n",
    "print(media)"
   ]
  },
  {
   "cell_type": "code",
   "execution_count": 8,
   "metadata": {},
   "outputs": [
    {
     "name": "stdout",
     "output_type": "stream",
     "text": [
      "(899, 2)\n"
     ]
    }
   ],
   "source": [
    "#Visualizar el canal 0, 1\n",
    "print(seg.shape)\n"
   ]
  },
  {
   "cell_type": "code",
   "execution_count": 9,
   "metadata": {},
   "outputs": [
    {
     "name": "stdout",
     "output_type": "stream",
     "text": [
      "193.798828125\n"
     ]
    }
   ],
   "source": [
    "psd1,f1 = my_spectra(Canal_1,fs)\n",
    "length = 0\n",
    "while f1[length]<0:\n",
    "    length = length + 1\n",
    "psd=psd1[length:]\n",
    "f=f1[length:]\n",
    "umbral = 5\n",
    "i=3\n",
    "l=True\n",
    "while l==True:\n",
    "    if psd[i+1]<psd[i]:\n",
    "        i=i+1\n",
    "    else:\n",
    "        l=False\n",
    "while i<500:\n",
    "    if psd[i+2] < psd[i] and psd[i+2] > umbral :\n",
    "        pitch = f[i]\n",
    "        break\n",
    "    i=i+1\n",
    "    pitch=0.0\n",
    "\n",
    "print(pitch)\n",
    "\n"
   ]
  },
  {
   "cell_type": "code",
   "execution_count": null,
   "metadata": {
    "collapsed": true
   },
   "outputs": [],
   "source": []
  }
 ],
 "metadata": {
  "kernelspec": {
   "display_name": "Python 3",
   "language": "python",
   "name": "python3"
  },
  "language_info": {
   "codemirror_mode": {
    "name": "ipython",
    "version": 3
   },
   "file_extension": ".py",
   "mimetype": "text/x-python",
   "name": "python",
   "nbconvert_exporter": "python",
   "pygments_lexer": "ipython3",
   "version": "3.6.6"
  }
 },
 "nbformat": 4,
 "nbformat_minor": 2
}
