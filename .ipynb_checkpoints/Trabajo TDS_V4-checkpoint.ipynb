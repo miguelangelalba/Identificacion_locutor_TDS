{
 "cells": [
  {
   "cell_type": "code",
   "execution_count": 1,
   "metadata": {},
   "outputs": [
    {
     "name": "stdout",
     "output_type": "stream",
     "text": [
      "44100\n",
      "44100\n",
      "44100\n",
      "44100\n",
      "44100\n"
     ]
    }
   ],
   "source": [
    "#Importar la señal\n",
    "%matplotlib notebook\n",
    "\n",
    "import matplotlib.pyplot as plt\n",
    "import sys\n",
    "from tds_utils import *\n",
    "import numpy as np\n",
    "from IPython.display import Audio\n",
    "import math\n",
    "\n",
    "import numpy as np\n",
    "import scipy as sc\n",
    "import matplotlib.pyplot as plt\n",
    "import scipy.signal as sig\n",
    "\n",
    "\n",
    "import scipy.io.wavfile as wf\n",
    "\n",
    "\n",
    "class clasePalabra:\n",
    "\n",
    "    def __init__(self):\n",
    "\n",
    "        self.fs = 0\n",
    "        self.y = 0\n",
    "        self.NumVentana = 0\n",
    "        self.MuestraVentana = 0\n",
    "        \n",
    "i=1\n",
    "arrayPalabras = []\n",
    "nombrePersonas = [\"Adri\",\"Isa\",\"Patri\",\"Filippo\",\"Mikiito\"]\n",
    "arrayPersonas =[]\n",
    "for j in range(0,len(nombrePersonas)):\n",
    "    while i < 9:\n",
    "        filename = nombrePersonas[j]+\"/\"+str(i)+\".wav\"\n",
    "        fs,y = wf.read(filename)\n",
    "        palabra  = clasePalabra()\n",
    "        palabra.fs= fs\n",
    "        palabra.y = y\n",
    "        t = np.arange(0,len(palabra.y)/palabra.fs,1/palabra.fs)\n",
    "        palabra.numVentana =  math.floor(max(t)/0.02)\n",
    "        palabra.muestrasVentana = math.floor(len(palabra.y)/palabra.numVentana)\n",
    "        arrayPalabras.append(palabra)\n",
    "        i=i+1\n",
    "    arrayPersonas.append(arrayPalabras)\n",
    "    #Play the signal at fs\n",
    "    import sounddevice as sd\n",
    "    print(fs)\n",
    "    #print(arrayPersonas)\n",
    "    sd.play(y,fs)"
   ]
  },
  {
   "cell_type": "code",
   "execution_count": 4,
   "metadata": {
    "scrolled": true
   },
   "outputs": [
    {
     "name": "stdout",
     "output_type": "stream",
     "text": [
      "136.0752272017554\n",
      "[-1.84205763  1.04699582 -0.18367932 -0.00300668 -0.09016822  0.01293022\n",
      "  0.14911818 -0.2190278   0.09315403  0.15895757 -0.16483701  0.03871623\n",
      "  0.00899988]\n"
     ]
    }
   ],
   "source": [
    "\n",
    "class clasePersona:\n",
    "\n",
    "    def __init__(self):\n",
    "        self.nombre = \"\"\n",
    "        self.mediaPitch = 0\n",
    "        self.mediaLpc = []\n",
    "\n",
    "        \n",
    "arrayMedias = [] \n",
    "arrayLpc = []\n",
    "for x in range (0,)\n",
    "for z in range (0,len(arrayPalabras)):\n",
    "    i = 0\n",
    "    pitch = []\n",
    "    \n",
    "    k = []\n",
    "    while i < arrayPalabras[z].numVentana:\n",
    "        seg = arrayPalabras[z].y[arrayPalabras[z].muestrasVentana*(i):arrayPalabras[z].muestrasVentana*(i+1)]\n",
    "        Canal_1 = seg[:,0]\n",
    "        psd1,f1 = my_spectra(Canal_1,fs)\n",
    "        length = 0\n",
    "        while f1[length]<0:\n",
    "            length = length + 1\n",
    "        psd=psd1[length:]\n",
    "        f=f1[length:]\n",
    "        umbral = 50\n",
    "        umbralBaja = 0\n",
    "        j=3\n",
    "        l=True\n",
    "        lpc_f=False\n",
    "        p0=13\n",
    "        while l==True:\n",
    "            if psd[j]>umbral:\n",
    "                lpc_f=True\n",
    "            if psd[j+1]<psd[j]:\n",
    "                j=j+1\n",
    "            else:\n",
    "                l=False\n",
    "        while j<23:\n",
    "            if psd[j]>umbral:\n",
    "                lpc_f=True\n",
    "            if psd[j+2] < psd[j] and psd[j+2] > umbral :\n",
    "                pitch.append(f[j])\n",
    "                k.append(i)\n",
    "                break\n",
    "            j=j+1\n",
    "            #pitch=0.0\n",
    "        if lpc_f==True:\n",
    "            h = sig.hamming(len(Canal_1)) #hamming window\n",
    "            arrayLpc.append (predlin2(Canal_1,p0,h))\n",
    "        #print(arrayLpc)\n",
    "        i = i+1\n",
    "    #print(pitch)\n",
    "    #print(k)\n",
    "    media=0\n",
    "    media = np.mean(pitch[0:len(pitch)])\n",
    "    arrayMedias.append(media)\n",
    "mediaTotal = np.mean(arrayMedias[0:len(arrayMedias)])\n",
    "print (mediaTotal)\n",
    "mediaLpc = [0,0,0,0,0,0,0,0,0,0,0,0,0]\n",
    "for z in range (0,len(arrayLpc)):\n",
    "    mediaLpc=mediaLpc + arrayLpc[z]\n",
    "mediaLpc= mediaLpc/len(arrayLpc)\n",
    "print(mediaLpc)\n",
    "#print(len(arrayLpc))"
   ]
  },
  {
   "cell_type": "code",
   "execution_count": null,
   "metadata": {
    "collapsed": true
   },
   "outputs": [],
   "source": []
  },
  {
   "cell_type": "code",
   "execution_count": null,
   "metadata": {
    "collapsed": true
   },
   "outputs": [],
   "source": []
  }
 ],
 "metadata": {
  "kernelspec": {
   "display_name": "Python 3",
   "language": "python",
   "name": "python3"
  },
  "language_info": {
   "codemirror_mode": {
    "name": "ipython",
    "version": 3
   },
   "file_extension": ".py",
   "mimetype": "text/x-python",
   "name": "python",
   "nbconvert_exporter": "python",
   "pygments_lexer": "ipython3",
   "version": "3.6.6"
  }
 },
 "nbformat": 4,
 "nbformat_minor": 2
}
